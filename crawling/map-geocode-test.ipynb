{
 "cells": [
  {
   "cell_type": "markdown",
   "metadata": {},
   "source": [
    "# Test"
   ]
  },
  {
   "cell_type": "code",
   "execution_count": 7,
   "metadata": {},
   "outputs": [
    {
     "name": "stdout",
     "output_type": "stream",
     "text": [
      "{'status': 'OK', 'meta': {'totalCount': 0, 'count': 0}, 'addresses': [], 'errorMessage': ''}\n"
     ]
    }
   ],
   "source": [
    "import requests\n",
    "import os\n",
    "from dotenv import load_dotenv\n",
    "\n",
    "load_dotenv()\n",
    "\n",
    "# API 요청 URL\n",
    "url = 'https://naveropenapi.apigw.ntruss.com/map-geocode/v2/geocode'\n",
    "query = '예래해안도로'\n",
    "params = {'query': query}\n",
    "\n",
    "# API Key 정보\n",
    "headers = {\n",
    "    'x-ncp-apigw-api-key-id': os.getenv('X-NCP-APIGW-API-KEY-ID'),\n",
    "    'x-ncp-apigw-api-key': os.getenv('X-NCP-APIGW-API-KEY'),\n",
    "    'Accept': 'application/json'\n",
    "}\n",
    "\n",
    "# GET 요청 보내기\n",
    "response = requests.get(url, headers=headers, params=params)\n",
    "\n",
    "# 응답 결과 출력\n",
    "if response.status_code == 200:\n",
    "    print(response.json())  # JSON 응답 출력\n",
    "else:\n",
    "    print(f\"Error: {response.status_code}\")\n"
   ]
  },
  {
   "cell_type": "code",
   "execution_count": null,
   "metadata": {},
   "outputs": [
    {
     "name": "stdout",
     "output_type": "stream",
     "text": [
      "{'status': {'code': 0, 'name': 'ok', 'message': 'done'}, 'results': [{'name': 'legalcode', 'code': {'id': '4623025024', 'type': 'L', 'mappingId': '1223025024'}, 'region': {'area0': {'name': 'kr', 'coords': {'center': {'crs': '', 'x': 0.0, 'y': 0.0}}}, 'area1': {'name': '전라남도', 'coords': {'center': {'crs': 'EPSG:4326', 'x': 126.957167, 'y': 34.900727}}, 'alias': '전남'}, 'area2': {'name': '광양시', 'coords': {'center': {'crs': 'EPSG:4326', 'x': 127.695899, 'y': 34.940658}}}, 'area3': {'name': '광양읍', 'coords': {'center': {'crs': 'EPSG:4326', 'x': 127.58105, 'y': 34.97341}}}, 'area4': {'name': '읍내리', 'coords': {'center': {'crs': 'EPSG:4326', 'x': 127.5863, 'y': 34.9751}}}}}, {'name': 'admcode', 'code': {'id': '4623025000', 'type': 'L', 'mappingId': '12230250'}, 'region': {'area0': {'name': 'kr', 'coords': {'center': {'crs': '', 'x': 0.0, 'y': 0.0}}}, 'area1': {'name': '전라남도', 'coords': {'center': {'crs': 'EPSG:4326', 'x': 126.957167, 'y': 34.900727}}, 'alias': '전남'}, 'area2': {'name': '광양시', 'coords': {'center': {'crs': 'EPSG:4326', 'x': 127.695899, 'y': 34.940658}}}, 'area3': {'name': '광양읍', 'coords': {'center': {'crs': 'EPSG:4326', 'x': 127.58105, 'y': 34.97341}}}, 'area4': {'name': '', 'coords': {'center': {'crs': '', 'x': 0.0, 'y': 0.0}}}}}, {'name': 'addr', 'code': {'id': '4623025024', 'type': 'L', 'mappingId': '1223025024'}, 'region': {'area0': {'name': 'kr', 'coords': {'center': {'crs': '', 'x': 0.0, 'y': 0.0}}}, 'area1': {'name': '전라남도', 'coords': {'center': {'crs': 'EPSG:4326', 'x': 126.957167, 'y': 34.900727}}, 'alias': '전남'}, 'area2': {'name': '광양시', 'coords': {'center': {'crs': 'EPSG:4326', 'x': 127.695899, 'y': 34.940658}}}, 'area3': {'name': '광양읍', 'coords': {'center': {'crs': 'EPSG:4326', 'x': 127.58105, 'y': 34.97341}}}, 'area4': {'name': '읍내리', 'coords': {'center': {'crs': 'EPSG:4326', 'x': 127.5863, 'y': 34.9751}}}}, 'land': {'type': '1', 'number1': '252', 'number2': '1', 'addition0': {'type': '', 'value': ''}, 'addition1': {'type': '', 'value': ''}, 'addition2': {'type': '', 'value': ''}, 'addition3': {'type': '', 'value': ''}, 'addition4': {'type': '', 'value': ''}, 'coords': {'center': {'crs': '', 'x': 0.0, 'y': 0.0}}}}, {'name': 'roadaddr', 'code': {'id': '4623025024', 'type': 'L', 'mappingId': '1223025024'}, 'region': {'area0': {'name': 'kr', 'coords': {'center': {'crs': '', 'x': 0.0, 'y': 0.0}}}, 'area1': {'name': '전라남도', 'coords': {'center': {'crs': 'EPSG:4326', 'x': 126.957167, 'y': 34.900727}}, 'alias': '전남'}, 'area2': {'name': '광양시', 'coords': {'center': {'crs': 'EPSG:4326', 'x': 127.695899, 'y': 34.940658}}}, 'area3': {'name': '광양읍', 'coords': {'center': {'crs': 'EPSG:4326', 'x': 127.58105, 'y': 34.97341}}}, 'area4': {'name': '읍내리', 'coords': {'center': {'crs': 'EPSG:4326', 'x': 127.5863, 'y': 34.9751}}}}, 'land': {'type': '', 'number1': '20', 'number2': '', 'addition0': {'type': 'building', 'value': ''}, 'addition1': {'type': 'zipcode', 'value': '57742'}, 'addition2': {'type': 'roadGroupCode', 'value': '462304655159'}, 'addition3': {'type': '', 'value': ''}, 'addition4': {'type': '', 'value': ''}, 'name': '매일시장길', 'coords': {'center': {'crs': '', 'x': 0.0, 'y': 0.0}}}}]}\n"
     ]
    }
   ],
   "source": [
    "import requests\n",
    "import os\n",
    "from dotenv import load_dotenv\n",
    "\n",
    "load_dotenv()\n",
    "\n",
    "# API URL 및 요청 URL\n",
    "url = \"https://naveropenapi.apigw.ntruss.com/map-reversegeocode/v2/gc\"\n",
    "\n",
    "# 요청에 필요한 파라미터\n",
    "params = {\n",
    "    'coords': '127.585,34.9765',\n",
    "    'output': 'json',\n",
    "    'orders': 'legalcode,admcode,addr,roadaddr'\n",
    "}\n",
    "\n",
    "# API Key 정보\n",
    "headers = {\n",
    "    'x-ncp-apigw-api-key-id': os.getenv('X-NCP-APIGW-API-KEY-ID'),\n",
    "    'x-ncp-apigw-api-key': os.getenv('X-NCP-APIGW-API-KEY'),\n",
    "    'Accept': 'application/json'\n",
    "}\n",
    "\n",
    "# GET 요청 보내기\n",
    "response = requests.get(url, headers=headers, params=params)\n",
    "\n",
    "# 응답 결과 출력\n",
    "if response.status_code == 200:\n",
    "    print(response.json())  # JSON 응답 출력\n",
    "else:\n",
    "    print(f\"Error: {response.status_code}\")"
   ]
  },
  {
   "cell_type": "markdown",
   "metadata": {},
   "source": [
    "# 관광지 데이터 정제"
   ]
  },
  {
   "cell_type": "code",
   "execution_count": 1,
   "metadata": {},
   "outputs": [
    {
     "name": "stdout",
     "output_type": "stream",
     "text": [
      "Unnamed 컬럼과 0번 컬럼이 제거되고 새로운 CSV 파일로 저장되었습니다.\n"
     ]
    }
   ],
   "source": [
    "import pandas as pd\n",
    "\n",
    "# CSV 파일 읽기 (인코딩 변경)\n",
    "try:\n",
    "    df = pd.read_csv('/media/jys/ssd/workspace/003_Competition/006_KAIT-2024-Big-Contest/old_addr_real_final.csv', encoding='euc-kr')\n",
    "except UnicodeDecodeError:\n",
    "    df = pd.read_csv('/media/jys/ssd/workspace/003_Competition/006_KAIT-2024-Big-Contest/old_addr_real_final.csv', encoding='utf-8')\n",
    "\n",
    "# Unnamed 컬럼 제거\n",
    "df = df.loc[:, ~df.columns.str.contains('^Unnamed')]\n",
    "\n",
    "# 0번 컬럼 제거\n",
    "df = df.iloc[:, 1:]\n",
    "\n",
    "# 변경된 데이터프레임을 CSV 파일로 저장\n",
    "df.to_csv('/media/jys/ssd/workspace/003_Competition/006_KAIT-2024-Big-Contest/old_addr_real_final_cleaned.csv', index=False, encoding='utf-8-sig')\n",
    "\n",
    "print(\"Unnamed 컬럼과 0번 컬럼이 제거되고 새로운 CSV 파일로 저장되었습니다.\")"
   ]
  },
  {
   "cell_type": "markdown",
   "metadata": {},
   "source": [
    "# 관광지 네이버 지도 위경도 API 호출"
   ]
  },
  {
   "cell_type": "code",
   "execution_count": 2,
   "metadata": {},
   "outputs": [
    {
     "name": "stderr",
     "output_type": "stream",
     "text": [
      "100%|██████████| 1353/1353 [00:57<00:00, 23.45it/s]"
     ]
    },
    {
     "name": "stdout",
     "output_type": "stream",
     "text": [
      "위경도 좌표가 추가된 새로운 CSV 파일이 저장되었습니다.\n"
     ]
    },
    {
     "name": "stderr",
     "output_type": "stream",
     "text": [
      "\n"
     ]
    }
   ],
   "source": [
    "import pandas as pd\n",
    "import requests\n",
    "import os\n",
    "from dotenv import load_dotenv\n",
    "from tqdm import tqdm\n",
    "import time\n",
    "from concurrent.futures import ThreadPoolExecutor, as_completed\n",
    "\n",
    "# .env 파일 로드\n",
    "load_dotenv()\n",
    "\n",
    "# API 키 및 URL 설정\n",
    "GEOCODE_URL = 'https://naveropenapi.apigw.ntruss.com/map-geocode/v2/geocode'\n",
    "HEADERS = {\n",
    "    'X-NCP-APIGW-API-KEY-ID': os.getenv('X-NCP-APIGW-API-KEY-ID'),\n",
    "    'X-NCP-APIGW-API-KEY': os.getenv('X-NCP-APIGW-API-KEY'),\n",
    "    'Accept': 'application/json'\n",
    "}\n",
    "\n",
    "def geocode(query):\n",
    "    params = {'query': query}\n",
    "    response = requests.get(GEOCODE_URL, headers=HEADERS, params=params)\n",
    "    if response.status_code == 200:\n",
    "        result = response.json()\n",
    "        if result['addresses']:\n",
    "            return result['addresses'][0]['y'], result['addresses'][0]['x']\n",
    "    return None, None\n",
    "\n",
    "def process_row(row):\n",
    "    lat, lng = geocode(row['New_ADDR'])\n",
    "    time.sleep(0.1)  # API 호출 제한을 고려한 딜레이\n",
    "    return lat, lng\n",
    "\n",
    "# CSV 파일 읽기\n",
    "df = pd.read_csv('/media/jys/ssd/workspace/003_Competition/006_KAIT-2024-Big-Contest/old_addr_real_final_cleaned.csv')\n",
    "\n",
    "# 새로운 컬럼 추가\n",
    "df['lat'] = None\n",
    "df['lng'] = None\n",
    "\n",
    "# ThreadPoolExecutor를 사용한 병렬 처리\n",
    "with ThreadPoolExecutor(max_workers=5) as executor:\n",
    "    future_to_index = {executor.submit(process_row, row): index for index, row in df.iterrows()}\n",
    "    \n",
    "    for future in tqdm(as_completed(future_to_index), total=len(future_to_index)):\n",
    "        index = future_to_index[future]\n",
    "        lat, lng = future.result()\n",
    "        df.at[index, 'lat'] = lat\n",
    "        df.at[index, 'lng'] = lng\n",
    "\n",
    "# 결과를 CSV 파일로 저장\n",
    "df.to_csv('/media/jys/ssd/workspace/003_Competition/006_KAIT-2024-Big-Contest/old_addr_with_coordinates.csv', index=False, encoding='utf-8-sig')\n",
    "\n",
    "print(\"위경도 좌표가 추가된 새로운 CSV 파일이 저장되었습니다.\")\n"
   ]
  },
  {
   "cell_type": "code",
   "execution_count": null,
   "metadata": {},
   "outputs": [],
   "source": []
  }
 ],
 "metadata": {
  "kernelspec": {
   "display_name": "Python 3",
   "language": "python",
   "name": "python3"
  },
  "language_info": {
   "codemirror_mode": {
    "name": "ipython",
    "version": 3
   },
   "file_extension": ".py",
   "mimetype": "text/x-python",
   "name": "python",
   "nbconvert_exporter": "python",
   "pygments_lexer": "ipython3",
   "version": "3.10.14"
  }
 },
 "nbformat": 4,
 "nbformat_minor": 2
}

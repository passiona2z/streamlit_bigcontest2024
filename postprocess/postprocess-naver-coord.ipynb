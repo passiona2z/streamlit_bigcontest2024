{
 "cells": [
  {
   "cell_type": "code",
   "execution_count": 1,
   "metadata": {},
   "outputs": [],
   "source": [
    "import json\n",
    "import pandas as pd\n",
    "import numpy as np\n",
    "from sklearn.neighbors import NearestNeighbors\n",
    "from tqdm import tqdm\n",
    "\n",
    "path = \"../data/naver-map-results-preprocessed.json\"\n",
    "save_path = \"../data/naver-map-results-postprocessed-coord.json\"\n",
    "coord_path = \"../data/old_addr_with_coordinates.csv\""
   ]
  },
  {
   "cell_type": "code",
   "execution_count": null,
   "metadata": {},
   "outputs": [],
   "source": [
    "# JSON 파일 열기\n",
    "with open(path, 'r', encoding='utf-8') as file:\n",
    "    data = json.load(file)\n",
    "\n",
    "# 데이터 출력\n",
    "print(len(data))"
   ]
  },
  {
   "cell_type": "code",
   "execution_count": null,
   "metadata": {},
   "outputs": [],
   "source": []
  },
  {
   "cell_type": "code",
   "execution_count": null,
   "metadata": {},
   "outputs": [],
   "source": [
    "import math\n",
    "\n",
    "# 좌표 데이터에서 위도와 경도 추출\n",
    "coords = coord_data[['lat', 'lng']].values\n",
    "\n",
    "# NaN 값 제거\n",
    "coords = coords[~np.isnan(coords).any(axis=1)]  # NaN이 있는 행 제거\n",
    "\n",
    "# NearestNeighbors 모델 생성\n",
    "nbrs = NearestNeighbors(n_neighbors=3).fit(coords)\n",
    "\n",
    "# 두 지점 간의 실제 거리 계산 함수 (Haversine 공식을 사용)\n",
    "def haversine(lat1, lon1, lat2, lon2):\n",
    "    R = 6371  # 지구의 반지름 (km)\n",
    "    phi1 = math.radians(lat1)\n",
    "    phi2 = math.radians(lat2)\n",
    "    delta_phi = math.radians(lat2 - lat1)\n",
    "    delta_lambda = math.radians(lon2 - lon1)\n",
    "\n",
    "    a = math.sin(delta_phi / 2) ** 2 + math.cos(phi1) * math.cos(phi2) * math.sin(delta_lambda / 2) ** 2\n",
    "    c = 2 * math.atan2(math.sqrt(a), math.sqrt(1 - a))\n",
    "\n",
    "    return R * c  # km 단위로 반환\n",
    "\n",
    "# 각 데이터에 대해 가장 가까운 관광명소 찾기\n",
    "for entry in tqdm(data):\n",
    "    # entry에서 좌표 추출 (예: entry['location'])\n",
    "    location = data[entry]['coordinate']  # 예시로 location 키 사용\n",
    "    nearest_attractions = coord_data.to_dict(orient='records')\n",
    "    \n",
    "    # 각 관광명소와의 거리 계산\n",
    "    for attraction in nearest_attractions:\n",
    "        attraction['distance'] = haversine(location['lat'], location['lng'], attraction['lat'], attraction['lng'])  # 실제 거리 계산\n",
    "    # 거리 기준으로 정렬하여 가장 가까운 3개 관광명소 선택\n",
    "    nearest_attractions = sorted(nearest_attractions, key=lambda x: x['distance'])[:3]\n",
    "    \n",
    "    data[entry]['nearest_attractions'] = nearest_attractions"
   ]
  },
  {
   "cell_type": "code",
   "execution_count": null,
   "metadata": {},
   "outputs": [],
   "source": [
    "with open(save_path, 'w', encoding='utf-8') as f:\n",
    "    json.dump(data, f, ensure_ascii=False, indent=4)"
   ]
  },
  {
   "cell_type": "code",
   "execution_count": null,
   "metadata": {},
   "outputs": [],
   "source": []
  }
 ],
 "metadata": {
  "kernelspec": {
   "display_name": "llm",
   "language": "python",
   "name": "python3"
  },
  "language_info": {
   "codemirror_mode": {
    "name": "ipython",
    "version": 3
   },
   "file_extension": ".py",
   "mimetype": "text/x-python",
   "name": "python",
   "nbconvert_exporter": "python",
   "pygments_lexer": "ipython3",
   "version": "3.10.14"
  }
 },
 "nbformat": 4,
 "nbformat_minor": 2
}

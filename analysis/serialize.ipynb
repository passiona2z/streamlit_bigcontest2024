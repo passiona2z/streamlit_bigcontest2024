{
 "cells": [
  {
   "cell_type": "code",
   "execution_count": 1,
   "id": "2d420181-4f50-4533-bfac-fc7ba4a5647e",
   "metadata": {},
   "outputs": [],
   "source": [
    "import os"
   ]
  },
  {
   "cell_type": "code",
   "execution_count": 2,
   "id": "582fcfaa-e345-466d-b226-61c6f0f0d7ce",
   "metadata": {},
   "outputs": [
    {
     "data": {
      "text/plain": [
       "'/Users/kyeongchanlee/projects/bigcontest2024/analysis'"
      ]
     },
     "execution_count": 2,
     "metadata": {},
     "output_type": "execute_result"
    }
   ],
   "source": [
    "os.getcwd()"
   ]
  },
  {
   "cell_type": "code",
   "execution_count": 3,
   "id": "4ad34262-b6a2-4961-9132-4c238a3a82ab",
   "metadata": {},
   "outputs": [],
   "source": [
    "os.chdir('../')"
   ]
  },
  {
   "cell_type": "code",
   "execution_count": 4,
   "id": "60f152db-8aba-41fa-953d-76c3d1a4c293",
   "metadata": {},
   "outputs": [
    {
     "data": {
      "text/plain": [
       "'/Users/kyeongchanlee/projects/bigcontest2024'"
      ]
     },
     "execution_count": 4,
     "metadata": {},
     "output_type": "execute_result"
    }
   ],
   "source": [
    "os.getcwd()"
   ]
  },
  {
   "cell_type": "code",
   "execution_count": 5,
   "id": "60bbd46b-e1a8-43e9-86e6-76420495645d",
   "metadata": {},
   "outputs": [
    {
     "name": "stderr",
     "output_type": "stream",
     "text": [
      "/Users/kyeongchanlee/.pyenv/versions/bigcontest2024/lib/python3.10/site-packages/sentence_transformers/cross_encoder/CrossEncoder.py:13: TqdmExperimentalWarning: Using `tqdm.autonotebook.tqdm` in notebook mode. Use `tqdm.tqdm` instead to force console mode (e.g. in jupyter console)\n",
      "  from tqdm.autonotebook import tqdm, trange\n"
     ]
    },
    {
     "name": "stdout",
     "output_type": "stream",
     "text": [
      "Retrieve reviews of stores--------------------------------------------------------------------------Retrieve reviews of stores--------------------------------------------------------------------------\n",
      "\n",
      "Retrieve reviews of stores--------------------------------------------------------------------------\n",
      "Query Execution Time for store 2156: 0.0444 seconds\n",
      "----------------------------------------------------------------------------------------------------\n",
      "Query Execution Time for store 5938: 0.0447 seconds\n",
      "----------------------------------------------------------------------------------------------------\n",
      "Query Execution Time for store 730: 0.0556 seconds\n",
      "----------------------------------------------------------------------------------------------------\n",
      "Total Execution Time: 23.3445 seconds\n",
      "{'results': [{'store_metadata': {'storeName': '그리트커피(Gr iet Coffee)', 'store_Image': {'kakao': None, 'google': 'https://lh5.googleusercontent.com/p/AF1QipPjnsXI0pjW9b0race3LfWfcczM0HefbardfUkG=w408-h408-k-no'}, 'reviewText': '애플숍에 온 것 같은 분위기. 작고 여성스런 깔끔한 카페다', 'reviewCount': {'kakao': None, 'google': 23}, 'store_Rating': {'kakao': None, 'google': '4.2'}, 'store_Type': '단품요리 전문', 'pk': 730}, 'top_reviews': [{'text': '애플숍에 온 것 같은 분위기. 작고 여성스런 깔끔한 카페다', 'similarity': 0.6329641791473465}, {'text': '진한 크레마의 아메리카노(조금 탔지만~^^;;)..조금 식었을때 올라오는 산미도 좋았습니다.\\n화이트한 깔끔 내부는  커피 한잔과 잠깐의 휴식에 좋은 까페입니다.', 'similarity': 0.46175057454763085}, {'text': '커피에 산미가 많고 멋있어요...', 'similarity': 0.44259914959939084}]}, {'store_metadata': {'visit_with': '연인・배우자, 아이, 친구', 'use_how': '{\"예약 없이 이용\":14}', 'storeName': '라토커피제주', 'store_Image': {'kakao': None, 'google': 'https://lh5.googleusercontent.com/p/AF1QipNDB83gNGXpYdeUjsrLg-ZYLCmJQ_StzEnY0X7T=w426-h240-k-no'}, 'reviewText': '분위기 좋은카페. 연인이랑같이', 'reviewCount': {'kakao': None, 'google': 191}, 'store_Rating': {'kakao': None, 'google': '3.9'}, 'menu': '넛츠끄레마:6500, 크림브륄레:7000, 딥초코:6500, 약과쿠키:4500, 약과버터바:6000, 약과휘낭시에:4000, 바스크치즈케이크:6500, 크로플:10000', 'wait_time': '{\"바로 입장\":14}', 'purpose': '여행, 데이트, 일상', 'store_Type': '단품요리 전문', 'pk': 2156}, 'top_reviews': [{'text': '분위기 좋은카페. 연인이랑같이', 'similarity': 0.6275993189289139}, {'text': '구옥을 개조한 분위기 있는 카페.\\n시간적 여유가 있다면 매장에서 차 한잔 괜찮을듯', 'similarity': 0.5359421582742931}, {'text': '진짜 강추..사진찍기 좋은곳..오늘가본 카페중 제일 좋아요~♡', 'similarity': 0.5275631210518553}]}, {'store_metadata': {'visit_with': '연인・배우자, 친구, 아이', 'use_how': '{\"예약 없이 이용\":42,\"포장·배달 이용\":1}', 'storeName': '우호적무관심', 'store_Image': {'kakao': 'https://t1.kakaocdn.net/thumb/T800x0.q50/?fname=http%3A%2F%2Ft1.daumcdn.net%2Fplace%2F644F25E90C4D4B1095E5206C8E7831F4', 'google': None}, 'reviewText': '특별한 구좌당근주스도 너무 맛있고 풍경도 너무좋아요! 미술관 가는 길에 들렸는데 다음에 또 오고싶어요!사장님도 엄청 친절하시네용 ㅎㅎ', 'reviewCount': {'kakao': 49, 'google': None}, 'store_Rating': {'kakao': 4.0, 'google': None}, 'menu': '구좌 당근주스:7000', 'wait_time': '{\"10분 이내\":1,\"바로 입장\":43}', 'purpose': '여행, 데이트, 나들이', 'store_Type': '단품요리 전문', 'pk': 5938}, 'top_reviews': [{'text': '만약 여자친구가 있었더라면\\n참 좋아했을것 같은 카페다', 'similarity': 0.6409582738623072}, {'text': '특별한 구좌당근주스도 너무 맛있고 풍경도 너무좋아요! 미술관 가는 길에 들렸는데 다음에 또 오고싶어요!사장님도 엄청 친절하시네용 ㅎㅎ', 'similarity': 0.6409582738623072}, {'text': '커피맛도 좋고 햇살이 들어와 좋아요^^\\n고양이도 건축물도 예뻐요', 'similarity': 0.5534511819967434}]}]}\n"
     ]
    }
   ],
   "source": [
    "\n",
    "from config import CONFIG\n",
    "from graphrag.get_embedding_model import get_embedding_model\n",
    "from graphrag.retriever_smiliar_reviews import process_review_node\n",
    "from llm_response.langgraph_graph_state import GraphState\n",
    "from llm_response.utils.recomm_get_store_nodes.intent_guide import IntentGuide\n",
    "from llm_response.utils.recomm_get_store_nodes.t2c import text_to_cypher_for_recomm\n",
    "from llm_response.utils.recomm_get_store_nodes.top_similar_stores import retrieve_top_similar_stores_pk\n",
    "from llm_response.utils.recomm_get_store_nodes.utils import convert_markdown_to_html\n",
    "from llm_response.utils.recomm_get_store_nodes.cypher_result_to_str import get_candidate_str, get_cypher_result_to_str\n",
    "\n",
    "import streamlit as st\n",
    "import re\n",
    "\n",
    "from prompt.text_to_cypher_for_recomm import EXAMPLES_COMBINED, NEO4J_SCHEMA_RECOMM, TEXT_TO_CYPHER_FOR_RECOMM_TEMPLATE\n",
    "from prompt.final_selecting_for_recomm import FINAL_SELECTING_FOR_RECOMM_v2\n",
    "\n",
    "from concurrent.futures import ThreadPoolExecutor, as_completed\n",
    "import time"
   ]
  },
  {
   "cell_type": "code",
   "execution_count": 9,
   "id": "e100f2f9-6549-4bb2-ae2f-9d789f2a992b",
   "metadata": {},
   "outputs": [
    {
     "data": {
      "text/plain": [
       "''"
      ]
     },
     "execution_count": 9,
     "metadata": {},
     "output_type": "execute_result"
    }
   ],
   "source": [
    "candidate_str"
   ]
  },
  {
   "cell_type": "code",
   "execution_count": 6,
   "id": "fcc810da-d14e-431b-b243-2dfcdce29793",
   "metadata": {},
   "outputs": [],
   "source": [
    "embedding_model = get_embedding_model()  # 초기화된 모델을 재사용"
   ]
  },
  {
   "cell_type": "code",
   "execution_count": 11,
   "id": "6e8cf2e7-38a1-44cf-8fb3-fd06820bf557",
   "metadata": {},
   "outputs": [],
   "source": [
    "from graphrag.retriever import get_neo4j_vector\n",
    "store_retriever_rev_emb = get_neo4j_vector().as_retriever(search_kwargs={\"k\": CONFIG.store_retriever_rev_emb_k})"
   ]
  },
  {
   "cell_type": "code",
   "execution_count": 7,
   "id": "c4d3cc63-c982-4d02-b92a-4a6e444db257",
   "metadata": {},
   "outputs": [],
   "source": [
    "from llm_response.get_llm_model import get_llm_model\n",
    "from graphrag.graph_search import get_neo4j_vector_graph\n",
    "from config import CONFIG\n",
    "\n",
    "llm = get_llm_model()\n",
    "from utils import graphdb_driver\n",
    "store_retriever_grp_emb = get_neo4j_vector_graph().as_retriever(search_kwargs={\"k\": CONFIG.store_retriever_rev_emb_k})\n",
    "state = {\n",
    "    'query' : '협재해수욕장 근처 70대 부모님이랑 같이 가기 좋은 한식당 추천해줘',\n",
    "    'intent' : '70대 부모님과 함께 편안하고 쾌적하게 식사를 즐길 수 있는, 깔끔하고 정갈한 한식 메뉴를 제공하는 협재해수욕장 근처 한식당'\n",
    "}"
   ]
  },
  {
   "cell_type": "code",
   "execution_count": 12,
   "id": "bca86f27-5133-46da-8cb6-83afde42a27f",
   "metadata": {},
   "outputs": [
    {
     "name": "stderr",
     "output_type": "stream",
     "text": [
      "2024-11-12 22:44:42.656 Thread 'MainThread': missing ScriptRunContext! This warning can be ignored when running in bare mode.\n",
      "2024-11-12 22:44:42.659 Thread 'MainThread': missing ScriptRunContext! This warning can be ignored when running in bare mode.\n",
      "2024-11-12 22:44:42.660 Thread 'MainThread': missing ScriptRunContext! This warning can be ignored when running in bare mode.\n",
      "2024-11-12 22:44:42.660 Thread 'MainThread': missing ScriptRunContext! This warning can be ignored when running in bare mode.\n"
     ]
    },
    {
     "name": "stdout",
     "output_type": "stream",
     "text": [
      "Get Store Candidates================================================================================\n",
      "Text2Cypher for RECOMM------------------------------------------------------------------------------\n",
      "# cypher : \n",
      "MATCH (rg:Region)-[:HAS_STORE]->(s:STORE)-[:HAS_VISIT_KEYWORD]->(v:Visit_with)\n",
      "WHERE rg.name CONTAINS \"협재\" AND s.MCT_TYPE IN ['가정식', '일식', '한식'] AND v.keyword CONTAINS \"부모님\"\n",
      "RETURN s.pk AS pk, s.MCT_NM AS RestaurantName, s.ADDR AS Address, s.menu AS Menu, v.keyword AS VisitWith\n",
      "LIMIT 500\n",
      "\n",
      "# input_tokens count : 3530\n",
      "----------------------------------------------------------------------------------------------------\n"
     ]
    },
    {
     "name": "stderr",
     "output_type": "stream",
     "text": [
      "2024-11-12 22:44:58.154 Thread 'MainThread': missing ScriptRunContext! This warning can be ignored when running in bare mode.\n",
      "2024-11-12 22:44:58.165 Thread 'MainThread': missing ScriptRunContext! This warning can be ignored when running in bare mode.\n",
      "2024-11-12 22:44:58.169 Thread 'MainThread': missing ScriptRunContext! This warning can be ignored when running in bare mode.\n",
      "2024-11-12 22:44:58.170 Thread 'MainThread': missing ScriptRunContext! This warning can be ignored when running in bare mode.\n",
      "2024-11-12 22:44:58.171 Thread 'MainThread': missing ScriptRunContext! This warning can be ignored when running in bare mode.\n",
      "2024-11-12 22:44:58.171 Thread 'MainThread': missing ScriptRunContext! This warning can be ignored when running in bare mode.\n"
     ]
    }
   ],
   "source": [
    "print(f\"Get Store Candidates\".ljust(100, '='))\n",
    "candidate_str = ''\n",
    "intent = state['intent']\n",
    "ig = IntentGuide()\n",
    "ig.add(f\"<li style='margin-bottom: 8px;'>{convert_markdown_to_html(intent)}</li>\")\n",
    "\n",
    "placeholder = st.empty()\n",
    "placeholder.markdown(\"> 조건을 만족하는 맛집 찾는 중...\", unsafe_allow_html=True)\n",
    "\n",
    "# Text to Cypher\n",
    "state = text_to_cypher_for_recomm(llm, state)\n",
    "\n",
    "# Retrieve store nodes filtered by DB schema\n",
    "candidates_1st, summary, keys = graphdb_driver.execute_query(state['t2c_for_recomm'])\n",
    "query_embedding = embedding_model.embed_query(intent)\n",
    "if candidates_1st:\n",
    "    placeholder.markdown(\n",
    "        f\"> {len(candidates_1st)}개의 후보 탐색 중...\",\n",
    "        unsafe_allow_html=True,\n",
    "    )\n",
    "\n",
    "    # Retrieve store nodes by review embedding search\n",
    "    top_sim_stores = retrieve_top_similar_stores_pk(\n",
    "        store_pk=[r['pk'] for r in candidates_1st], \n",
    "        query_embedding=query_embedding\n",
    "        )\n",
    "\n",
    "    # 정리\n",
    "    top_sim_pks = [ts['pk'] for ts in top_sim_stores]\n",
    "    candidates_2nd = [r for r in candidates_1st if r['pk'] in top_sim_pks]\n",
    "    placeholder.markdown(\n",
    "        f\"> {len(candidates_2nd)}개의 후보 탐색 중...\",\n",
    "        unsafe_allow_html=True,\n",
    "    )\n",
    "    cypher_result_str = get_cypher_result_to_str(candidates_2nd, query_embedding, graphdb_driver, k=2)\n",
    "    candidate_str += cypher_result_str\n",
    "\n",
    "lack_num = CONFIG.recomm_candidates_num - len(candidates_1st)\n",
    "if lack_num:\n",
    "    review_retrieval = store_retriever_rev_emb.invoke(state['intent'])\n",
    "    candidate_str += get_candidate_str(review_retrieval[:lack_num], query_embedding, graphdb_driver, review_k=2)\n",
    "    placeholder.markdown(\n",
    "        f\"> {len(candidates_1st) + len(review_retrieval)}개의 후보 탐색 중...\",\n",
    "        unsafe_allow_html=True,\n",
    "    )\n",
    "\n",
    "# Guide\n",
    "place_holder_str = ''\n",
    "placeholder.markdown(place_holder_str, unsafe_allow_html=True)\n",
    "ig.close()\n",
    "st.markdown(ig.guide, unsafe_allow_html=True)\n",
    "state[\"final_answer\"] = ig.guide + '\\n'\n"
   ]
  },
  {
   "cell_type": "code",
   "execution_count": 28,
   "id": "65c4accd-5780-4477-8820-7428ba590630",
   "metadata": {},
   "outputs": [],
   "source": [
    "candidate_str = get_candidate_str(review_retrieval[:lack_num], query_embedding, graphdb_driver, review_k=2)"
   ]
  },
  {
   "cell_type": "code",
   "execution_count": 36,
   "id": "3132af54-cb03-46b1-9c5f-3e96e8a1371d",
   "metadata": {},
   "outputs": [
    {
     "name": "stdout",
     "output_type": "stream",
     "text": [
      "오라장어\n",
      "우미관\n",
      "온평바다한그릇\n",
      "선흘곶\n",
      "선흘곶\n",
      "뜨레솥밥\n"
     ]
    }
   ],
   "source": [
    "for _ in review_retrieval[:lack_num]:\n",
    "    print(_.metadata['storeName'])"
   ]
  },
  {
   "cell_type": "code",
   "execution_count": 40,
   "id": "e4a2f9ae-6b22-4973-abf9-fbec9a17b8eb",
   "metadata": {},
   "outputs": [],
   "source": [
    "candidates_lst = candidate_str.strip().split('\\n\\n')"
   ]
  },
  {
   "cell_type": "code",
   "execution_count": 41,
   "id": "e0ae5e79-e13d-4678-ac3b-1f8226e04c3b",
   "metadata": {},
   "outputs": [],
   "source": [
    "num_candidates = len(candidates_lst)"
   ]
  },
  {
   "cell_type": "code",
   "execution_count": 42,
   "id": "938221cd-ac9e-408a-92bf-61ee7dd98e2a",
   "metadata": {},
   "outputs": [
    {
     "data": {
      "text/plain": [
       "5"
      ]
     },
     "execution_count": 42,
     "metadata": {},
     "output_type": "execute_result"
    }
   ],
   "source": [
    "num_candidates"
   ]
  },
  {
   "cell_type": "code",
   "execution_count": 50,
   "id": "916e3b22-f909-4676-a079-767949862b2d",
   "metadata": {},
   "outputs": [],
   "source": [
    "prompt = FINAL_SELECTING_FOR_RECOMM_v2.format(\n",
    "query=state['query'], \n",
    "intent=state['intent'],\n",
    "candidates='\\n\\n'.join(candidates_lst[:num_candidates-1])\n",
    ")"
   ]
  },
  {
   "cell_type": "code",
   "execution_count": 51,
   "id": "3744888a-0d4c-4ff6-8b8d-494dcbc9b801",
   "metadata": {},
   "outputs": [
    {
     "data": {
      "text/plain": [
       "4460"
      ]
     },
     "execution_count": 51,
     "metadata": {},
     "output_type": "execute_result"
    }
   ],
   "source": [
    "llm.get_num_tokens(prompt)"
   ]
  },
  {
   "cell_type": "code",
   "execution_count": 58,
   "id": "ee31ea82-dd76-4543-b14d-39bb054e48c2",
   "metadata": {},
   "outputs": [
    {
     "data": {
      "text/plain": [
       "4460"
      ]
     },
     "execution_count": 58,
     "metadata": {},
     "output_type": "execute_result"
    }
   ],
   "source": [
    "num_tokens"
   ]
  },
  {
   "cell_type": "code",
   "execution_count": 66,
   "id": "eb230f59-f92a-45ea-94a3-19fc420d175d",
   "metadata": {},
   "outputs": [
    {
     "name": "stdout",
     "output_type": "stream",
     "text": [
      "Current number of candidates: 5, Token count: 5051\n",
      "Current number of candidates: 4, Token count: 4769\n"
     ]
    }
   ],
   "source": [
    "def token_check(candidate_str):\n",
    "    candidates_lst = candidate_str.strip().split('\\n\\n')\n",
    "    num_candidates = len(candidates_lst)\n",
    "    \n",
    "    while True:\n",
    "        prompt = FINAL_SELECTING_FOR_RECOMM_v2.format(\n",
    "            query=state['query'], \n",
    "            intent=state['intent'],\n",
    "            candidates='\\n\\n'.join(candidates_lst[:num_candidates])\n",
    "        )\n",
    "        \n",
    "        num_tokens = llm.get_num_tokens(prompt)\n",
    "        \n",
    "        # 현재 후보 수와 토큰 수를 출력합니다.\n",
    "        print(f\"Current number of candidates: {num_candidates}, Token count: {num_tokens}\")\n",
    "        \n",
    "        if num_tokens <= 5000:\n",
    "            break\n",
    "        \n",
    "        num_candidates -= 1\n",
    "\n",
    "    return '\\n\\n'.join(candidates_lst[:num_candidates])\n"
   ]
  },
  {
   "cell_type": "code",
   "execution_count": 67,
   "id": "666e9292-f716-4787-8311-d3c2e59e90ab",
   "metadata": {},
   "outputs": [
    {
     "data": {
      "text/plain": [
       "4769"
      ]
     },
     "execution_count": 67,
     "metadata": {},
     "output_type": "execute_result"
    }
   ],
   "source": [
    "num_tokens"
   ]
  },
  {
   "cell_type": "code",
   "execution_count": 68,
   "id": "7a8b4e90-69fe-45b7-be5a-179f3c37ffe7",
   "metadata": {},
   "outputs": [
    {
     "data": {
      "text/plain": [
       "4"
      ]
     },
     "execution_count": 68,
     "metadata": {},
     "output_type": "execute_result"
    }
   ],
   "source": [
    "num_candidates"
   ]
  },
  {
   "cell_type": "code",
   "execution_count": 70,
   "id": "eb26cdcb-9f89-4804-b0f2-6f55ceaf0d27",
   "metadata": {},
   "outputs": [
    {
     "name": "stdout",
     "output_type": "stream",
     "text": [
      "가게명 : 오라장어\n",
      "pk : 5525\n",
      "리뷰 : \n",
      "1. 부모님 모시고 식사하기 좋아요. 장어도 튼실하고 맛이 좋네요~\n",
      "2. 반찬도 다양하고 장어구이도 맛있어요 ! 부모님 모시고 왔는데 친절하시고 다음에도 방문하고 싶네요 ㅎㅎ !!💛\n",
      "평점 : google 3.5(2명)\n",
      "주소 : 제주 제주시 오라일동 1076번지 1층\n",
      "음식 유형 : 가정식\n",
      "방문 목적 top 3 : 가족모임, 친목, 일상\n",
      "대기 시간 통계 : 30분 이내:2,10분 이내:2,바로 입장:92\n",
      "예약 필요 여부 통계 : 예약 없이 이용:73,예약 후 이용:20\n",
      "메뉴 : 골라먹는 특대사이즈 민물장어(100g:8800, (포장)숯불초벌 특대사이즈 민물장어:55000, (진공포장)특대사이즈 생물민물장어:55000, 골라먹는 갈비살(100g):8800,\n",
      "\n",
      "가게명 : 우미관\n",
      "pk : 5894\n",
      "리뷰 : \n",
      "1. 부모님 모시고 갔는데 너무 만족스러운 식사였습니다! 이전하고 처음갔는데 내부 공간도 주차장도 훨씬 쾌적했어요 😆 깔끔하고 정갈하고 든든한 한끼식사로 강추합니다!\n",
      "2. 한상차림으로 깔끔하게 먹기 좋았어요^^\n",
      "저는 장어덮밥먹고 부모님은 장어구이 드셨는데\n",
      "장어구이는 좀 더 바삭하게 구웠으면 좋다 하셨어요\n",
      "덮밥은 맛있었습니다!!\n",
      "평점 : naver 4.55(224명)\n",
      "주소 : 제주 제주시 이도이동 1188-20번지 2층\n",
      "음식 유형 : 가정식\n",
      "방문 목적 top 3 : 가족모임, 데이트, 친목\n",
      "대기 시간 통계 : 10분 이내:1,바로 입장:81\n",
      "예약 필요 여부 통계 : 예약 없이 이용:17,포장·배달 이용:4,예약 후 이용:62\n",
      "메뉴 : 장어정식(1인):39000, 장어덮밥(특 250g):36000, 장어덮밥(소 180g):29000, 장어구이(추가/포장):34000\n",
      "\n",
      "가게명 : 온평바다한그릇\n",
      "pk : 5663\n",
      "리뷰 : \n",
      "1. 부모님 모시고 맛있게 잘 먹고 갑니다.\n",
      "해산물도 신선하고 잘먹었습니다❤️\n",
      "2. 서버 분들꼐서 너무 친절하게 대해주셨네요~ 젊으신 분들 보기가 좋았습니다~^^ 해산물 모둠 하나 시켰는데 너무 신선한 것들로 준비되어 있어서 맛있게 먹었네요~\n",
      "평점 : google 4.1(377명)\n",
      "주소 : 제주 서귀포시 성산읍 온평리 1192-1번지 성산읍\n",
      "음식 유형 : 가정식\n",
      "방문 목적 top 3 : 여행, 데이트, 가족모임\n",
      "대기 시간 통계 : 1시간 이상:1,30분 이내:5,10분 이내:12,바로 입장:77\n",
      "예약 필요 여부 통계 : 예약 없이 이용:90,포장·배달 이용:3,예약 후 이용:2\n",
      "메뉴 : 고등어회+해산물모듬소+전복문어해물라면:87000, 전복구이:30000, 딱새우찜:30000, 문어숙회:30000, 한치(회,먹통찜):40000, 한치물회(활어):16000, 해산물\n",
      "\n",
      "가게명 : 선흘곶\n",
      "pk : 4167\n",
      "리뷰 : \n",
      "1. 지인과 함께 <동백동산습지> 걷기를 마치고\n",
      "수련이 이쁘다는 <반못>에 들럿다가 연꽃가득한\n",
      "돌다리를 건너다 우연히 만난 식당입니다~😄😄\n",
      "꼭꼭 숨어 있는 듯 보였는데 어떻게 아시고들\n",
      "2. 부모님 모시고 가기 좋은 한정식 맛집!!\n",
      "사장님 몹시 친절하심!!\n",
      "평점 : naver 4.5(556명), kakao 4.0(141명), google 4.2(5명)\n",
      "주소 : 제주 제주시 조천읍 선흘리 산 22번지 1층\n",
      "음식 유형 : 가정식\n",
      "방문 목적 top 3 : 여행, 나들이, 친목\n",
      "대기 시간 통계 : 1시간 이상:1,30분 이내:4,10분 이내:6,바로 입장:33\n",
      "예약 필요 여부 통계 : 예약 없이 이용:43\n",
      "메뉴 : 쌈밥정식:17000, 돼지고기 추가:10000, 고등어 추가:8000\n"
     ]
    }
   ],
   "source": [
    " = '\\n\\n'.join(candidates_lst[:num_candidates])"
   ]
  },
  {
   "cell_type": "code",
   "execution_count": 53,
   "id": "e4bd9e87-a51e-4169-9709-56662d7a7080",
   "metadata": {},
   "outputs": [
    {
     "data": {
      "text/plain": [
       "4"
      ]
     },
     "execution_count": 53,
     "metadata": {},
     "output_type": "execute_result"
    }
   ],
   "source": [
    "num_candidates"
   ]
  },
  {
   "cell_type": "code",
   "execution_count": null,
   "id": "91a180d0-43e8-4e6f-93e3-b1da4a9b55b7",
   "metadata": {},
   "outputs": [],
   "source": []
  },
  {
   "cell_type": "code",
   "execution_count": null,
   "id": "7ce82b9b-cbdc-44f5-8c8d-9953e344e711",
   "metadata": {},
   "outputs": [],
   "source": []
  },
  {
   "cell_type": "code",
   "execution_count": null,
   "id": "941baf75-7f20-4d80-85a1-7caeca5d052c",
   "metadata": {},
   "outputs": [],
   "source": []
  },
  {
   "cell_type": "code",
   "execution_count": 21,
   "id": "018d9fec-d0ec-4c8e-a6b2-84e6ea45ab9f",
   "metadata": {},
   "outputs": [
    {
     "name": "stdout",
     "output_type": "stream",
     "text": [
      "가게명 : 오라장어\n",
      "pk : 5525\n",
      "리뷰 : \n",
      "1. 부모님 모시고 식사하기 좋아요. 장어도 튼실하고 맛이 좋네요~\n",
      "2. 반찬도 다양하고 장어구이도 맛있어요 ! 부모님 모시고 왔는데 친절하시고 다음에도 방문하고 싶네요 ㅎㅎ !!💛\n",
      "평점 : google 3.5(2명)\n",
      "주소 : 제주 제주시 오라일동 1076번지 1층\n",
      "음식 유형 : 가정식\n",
      "방문 목적 top 3 : 가족모임, 친목, 일상\n",
      "대기 시간 통계 : 30분 이내:2,10분 이내:2,바로 입장:92\n",
      "예약 필요 여부 통계 : 예약 없이 이용:73,예약 후 이용:20\n",
      "메뉴 : 골라먹는 특대사이즈 민물장어(100g:8800, (포장)숯불초벌 특대사이즈 민물장어:55000, (진공포장)특대사이즈 생물민물장어:55000, 골라먹는 갈비살(100g):8800,\n",
      "\n",
      "가게명 : 우미관\n",
      "pk : 5894\n",
      "리뷰 : \n",
      "1. 부모님 모시고 갔는데 너무 만족스러운 식사였습니다! 이전하고 처음갔는데 내부 공간도 주차장도 훨씬 쾌적했어요 😆 깔끔하고 정갈하고 든든한 한끼식사로 강추합니다!\n",
      "2. 한상차림으로 깔끔하게 먹기 좋았어요^^\n",
      "저는 장어덮밥먹고 부모님은 장어구이 드셨는데\n",
      "장어구이는 좀 더 바삭하게 구웠으면 좋다 하셨어요\n",
      "덮밥은 맛있었습니다!!\n",
      "평점 : naver 4.55(224명)\n",
      "주소 : 제주 제주시 이도이동 1188-20번지 2층\n",
      "음식 유형 : 가정식\n",
      "방문 목적 top 3 : 가족모임, 데이트, 친목\n",
      "대기 시간 통계 : 10분 이내:1,바로 입장:81\n",
      "예약 필요 여부 통계 : 예약 없이 이용:17,포장·배달 이용:4,예약 후 이용:62\n",
      "메뉴 : 장어정식(1인):39000, 장어덮밥(특 250g):36000, 장어덮밥(소 180g):29000, 장어구이(추가/포장):34000\n",
      "\n",
      "가게명 : 온평바다한그릇\n",
      "pk : 5663\n",
      "리뷰 : \n",
      "1. 부모님 모시고 맛있게 잘 먹고 갑니다.\n",
      "해산물도 신선하고 잘먹었습니다❤️\n",
      "2. 서버 분들꼐서 너무 친절하게 대해주셨네요~ 젊으신 분들 보기가 좋았습니다~^^ 해산물 모둠 하나 시켰는데 너무 신선한 것들로 준비되어 있어서 맛있게 먹었네요~\n",
      "평점 : google 4.1(377명)\n",
      "주소 : 제주 서귀포시 성산읍 온평리 1192-1번지 성산읍\n",
      "음식 유형 : 가정식\n",
      "방문 목적 top 3 : 여행, 데이트, 가족모임\n",
      "대기 시간 통계 : 1시간 이상:1,30분 이내:5,10분 이내:12,바로 입장:77\n",
      "예약 필요 여부 통계 : 예약 없이 이용:90,포장·배달 이용:3,예약 후 이용:2\n",
      "메뉴 : 고등어회+해산물모듬소+전복문어해물라면:87000, 전복구이:30000, 딱새우찜:30000, 문어숙회:30000, 한치(회,먹통찜):40000, 한치물회(활어):16000, 해산물\n",
      "\n",
      "가게명 : 선흘곶\n",
      "pk : 4167\n",
      "리뷰 : \n",
      "1. 지인과 함께 <동백동산습지> 걷기를 마치고\n",
      "수련이 이쁘다는 <반못>에 들럿다가 연꽃가득한\n",
      "돌다리를 건너다 우연히 만난 식당입니다~😄😄\n",
      "꼭꼭 숨어 있는 듯 보였는데 어떻게 아시고들\n",
      "2. 부모님 모시고 가기 좋은 한정식 맛집!!\n",
      "사장님 몹시 친절하심!!\n",
      "평점 : naver 4.5(556명), kakao 4.0(141명), google 4.2(5명)\n",
      "주소 : 제주 제주시 조천읍 선흘리 산 22번지 1층\n",
      "음식 유형 : 가정식\n",
      "방문 목적 top 3 : 여행, 나들이, 친목\n",
      "대기 시간 통계 : 1시간 이상:1,30분 이내:4,10분 이내:6,바로 입장:33\n",
      "예약 필요 여부 통계 : 예약 없이 이용:43\n",
      "메뉴 : 쌈밥정식:17000, 돼지고기 추가:10000, 고등어 추가:8000\n",
      "\n",
      "가게명 : 뜨레솥밥\n",
      "pk : 2119\n",
      "리뷰 : \n",
      "1. 음식이 정갈하게 나와요~~ 부모님과 함께 했는데 모두 만족스러운 식사였습니다 ^^\n",
      "2. 친절하신데 고기반찬잇으면 좋겟어요..\n",
      "평점 : naver 4.39(64명), kakao 4.0(55명), google 4.3(16명)\n",
      "주소 : 제주 제주시 애월읍 고성리 920-20번지 1층\n",
      "음식 유형 : 가정식\n",
      "방문 목적 top 3 : 일상, 여행, 나들이\n",
      "대기 시간 통계 : 바로 입장:7\n",
      "예약 필요 여부 통계 : 예약 없이 이용:8\n",
      "메뉴 : 한우국밥:11000, 명란순두부:10000, 불고기비빔밥:10000, 한우불고기 150g:15000, 생삼겹살 200g:17000, 한우로스구이 150g:20000\n"
     ]
    }
   ],
   "source": [
    "print(candidate_str.strip())"
   ]
  },
  {
   "cell_type": "code",
   "execution_count": 8,
   "id": "223fc76e-4ac9-4dee-a3dd-fe6c4f4980b7",
   "metadata": {},
   "outputs": [
    {
     "name": "stdout",
     "output_type": "stream",
     "text": [
      "Text2Cypher for RECOMM------------------------------------------------------------------------------\n",
      "# cypher : \n",
      "MATCH (rg:Region)-[:HAS_STORE]->(s:STORE)-[:HAS_VISIT_KEYWORD]->(v:Visit_with)\n",
      "WHERE rg.name CONTAINS \"협재\" AND s.MCT_TYPE IN ['가정식', '일식', '한식'] AND v.keyword CONTAINS \"부모님\"\n",
      "RETURN s.pk AS pk, s.MCT_NM AS RestaurantName, s.ADDR AS Address, s.menu AS Menu, v.keyword AS VisitWith\n",
      "LIMIT 500\n",
      "\n",
      "# input_tokens count : 3530\n",
      "----------------------------------------------------------------------------------------------------\n"
     ]
    }
   ],
   "source": [
    "state = text_to_cypher_for_recomm(llm, state)"
   ]
  },
  {
   "cell_type": "code",
   "execution_count": 9,
   "id": "5ebbc530-7599-488c-bc01-4fe67d2ee16a",
   "metadata": {},
   "outputs": [],
   "source": [
    "candidates_1st, summary, keys = graphdb_driver.execute_query(state['t2c_for_recomm'])"
   ]
  },
  {
   "cell_type": "code",
   "execution_count": 10,
   "id": "e3591a4b-6ae7-4c37-9dcc-514b920fda15",
   "metadata": {},
   "outputs": [
    {
     "data": {
      "text/plain": [
       "[]"
      ]
     },
     "execution_count": 10,
     "metadata": {},
     "output_type": "execute_result"
    }
   ],
   "source": [
    "candidates_1st"
   ]
  },
  {
   "cell_type": "code",
   "execution_count": 16,
   "id": "43bca500-29fe-4fc1-ba5a-782fbcd433a4",
   "metadata": {},
   "outputs": [],
   "source": [
    "lack_num = CONFIG.recomm_candidates_num - len(candidates_1st)"
   ]
  },
  {
   "cell_type": "code",
   "execution_count": 17,
   "id": "d345463f-d0e7-4f0e-934c-037231c8ad03",
   "metadata": {},
   "outputs": [],
   "source": [
    "from graphrag.retriever import get_neo4j_vector"
   ]
  },
  {
   "cell_type": "code",
   "execution_count": 19,
   "id": "4fadd81c-0ac3-4208-99c2-bd891f6908de",
   "metadata": {},
   "outputs": [],
   "source": [
    "store_retriever_rev_emb = get_neo4j_vector().as_retriever(search_kwargs={\"k\": 6})"
   ]
  },
  {
   "cell_type": "code",
   "execution_count": 23,
   "id": "1944c596-c1bc-4ff1-8fba-de26ff12cc8b",
   "metadata": {},
   "outputs": [],
   "source": [
    "review_retrieval = store_retriever_rev_emb.invoke(state['intent'])"
   ]
  },
  {
   "cell_type": "code",
   "execution_count": null,
   "id": "e102323d-d903-410c-80b3-67d938c39958",
   "metadata": {},
   "outputs": [],
   "source": [
    "retrievalQuery_v3"
   ]
  },
  {
   "cell_type": "code",
   "execution_count": 31,
   "id": "3c1c9474-ed00-4f08-b3bd-9547bae096d0",
   "metadata": {},
   "outputs": [],
   "source": [
    "def retrieve_top_k_reviews(store_pk, query_embedding, driver, k=2):\n",
    "    \"\"\"\n",
    "    특정 STORE 노드에 연결된 리뷰 중 유사한 TOP-K 리뷰를 반환합니다.\n",
    "    \"\"\"\n",
    "    query = \"\"\"\n",
    "    MATCH (s:STORE {pk: $store_pk})-[:HAS_REVIEW]->(r:Review)\n",
    "    WHERE r.textEmbedding IS NOT NULL\n",
    "    RETURN r.text AS text, gds.similarity.cosine(r.textEmbedding, $query_embedding) AS similarity\n",
    "    ORDER BY similarity DESC\n",
    "    LIMIT $k\n",
    "    \"\"\"\n",
    "    with driver.session() as session:\n",
    "        result = session.run(\n",
    "            query, store_pk=store_pk, query_embedding=query_embedding, k=k\n",
    "        )\n",
    "        return [\n",
    "            {\"text\": record[\"text\"], \"similarity\": record[\"similarity\"]}\n",
    "            for record in result\n",
    "        ]"
   ]
  },
  {
   "cell_type": "code",
   "execution_count": 32,
   "id": "b537aab5-edad-4614-86cb-7764eef5fb47",
   "metadata": {},
   "outputs": [],
   "source": [
    "def get_candidate_str(candidates, query_embedding, graphdb_driver, review_k):\n",
    "    drop_dup = []\n",
    "    for r in candidates:\n",
    "        if r.metadata['pk'] not in [d.metadata['pk'] for d in drop_dup]:\n",
    "            drop_dup.append(r)\n",
    "\n",
    "    candidates_str = ''\n",
    "    for d in drop_dup:\n",
    "        # 가게명\n",
    "        candidates_str += f\"가게명 : {d.metadata['storeName']}\\n\"\n",
    "        # pk\n",
    "        candidates_str += f\"pk : {d.metadata['pk']}\\n\"\n",
    "        # 리뷰\n",
    "        reviews = retrieve_top_k_reviews(d.metadata['pk'], query_embedding, graphdb_driver, k=review_k)\n",
    "        if reviews:\n",
    "            reviews_lst = [f\"{ri}. {review['text'][:100]}\".strip() for ri, review in enumerate(reviews, start=1)]\n",
    "            candidates_str += \"리뷰 : \\n\" + '\\n'.join(reviews_lst) + \"\\n\"\n",
    "        # 평점\n",
    "        ratings_lst = []\n",
    "        for platform in ['naver', 'kakao', 'google']:\n",
    "            if (platform in d.metadata['store_Rating']) and (d.metadata['store_Rating'][platform] is not None):\n",
    "                pf_rating = d.metadata['store_Rating'][platform]\n",
    "            else:\n",
    "                continue\n",
    "            if platform in d.metadata['reviewCount'] and (d.metadata['reviewCount'][platform] is not None):\n",
    "                pf_rc = d.metadata['reviewCount'][platform]\n",
    "            else:\n",
    "                continue\n",
    "            ratings_lst.append(f\"{platform} {pf_rating}({pf_rc}명)\")\n",
    "        rating_str = ', '.join(ratings_lst)\n",
    "        candidates_str += f\"평점 : {rating_str}\\n\"\n",
    "        # 주소\n",
    "        if 'store_Addr' in d.metadata:\n",
    "            candidates_str += f\"주소 : {d.metadata['store_Addr']}\\n\"\n",
    "        # 음식 유형\n",
    "        if 'store_Type' in d.metadata:\n",
    "            candidates_str += f\"음식 유형 : {d.metadata['store_Type']}\\n\"\n",
    "        # 방문 목적 top 3 \n",
    "        if 'purpose' in d.metadata:\n",
    "            candidates_str += f\"방문 목적 top 3 : {d.metadata['purpose']}\\n\"\n",
    "        # 대기 시간 통계\n",
    "        if 'wait_time' in d.metadata:\n",
    "            wait_time_str = d.metadata['wait_time'].replace('{', '').replace('}', '').replace('\"', '')\n",
    "            candidates_str += f\"대기 시간 통계 : {wait_time_str}\\n\"\n",
    "        # 예약 필요 여부\n",
    "        if 'use_how' in d.metadata:\n",
    "            use_how_str = d.metadata['use_how'].replace('{', '').replace('}', '').replace('\"', '')\n",
    "            candidates_str += f\"예약 필요 여부 통계 : {use_how_str}\\n\"\n",
    "        # 메뉴\n",
    "        if 'menu' in d.metadata:\n",
    "            candidates_str += f\"메뉴 : {d.metadata['menu'][:100]}\\n\"\n",
    "\n",
    "        candidates_str += '\\n'\n",
    "    return candidates_str"
   ]
  },
  {
   "cell_type": "code",
   "execution_count": 34,
   "id": "af0f19c2-bc81-437b-b093-0ab0991d9f84",
   "metadata": {},
   "outputs": [],
   "source": [
    "intent = state['intent']\n",
    "query_embedding = embedding_model.embed_query(intent)"
   ]
  },
  {
   "cell_type": "code",
   "execution_count": 36,
   "id": "498db513-af8f-4e61-b568-7b613dec93ea",
   "metadata": {},
   "outputs": [
    {
     "name": "stdout",
     "output_type": "stream",
     "text": [
      "가게명 : 오라장어\n",
      "pk : 5525\n",
      "리뷰 : \n",
      "1. 부모님 모시고 식사하기 좋아요. 장어도 튼실하고 맛이 좋네요~\n",
      "2. 반찬도 다양하고 장어구이도 맛있어요 ! 부모님 모시고 왔는데 친절하시고 다음에도 방문하고 싶네요 ㅎㅎ !!💛\n",
      "평점 : google 3.5(2명)\n",
      "주소 : 제주 제주시 오라일동 1076번지 1층\n",
      "음식 유형 : 가정식\n",
      "방문 목적 top 3 : 가족모임, 친목, 일상\n",
      "대기 시간 통계 : 30분 이내:2,10분 이내:2,바로 입장:92\n",
      "예약 필요 여부 통계 : 예약 없이 이용:73,예약 후 이용:20\n",
      "메뉴 : 골라먹는 특대사이즈 민물장어(100g:8800, (포장)숯불초벌 특대사이즈 민물장어:55000, (진공포장)특대사이즈 생물민물장어:55000, 골라먹는 갈비살(100g):8800,\n",
      "\n",
      "가게명 : 우미관\n",
      "pk : 5894\n",
      "리뷰 : \n",
      "1. 부모님 모시고 갔는데 너무 만족스러운 식사였습니다! 이전하고 처음갔는데 내부 공간도 주차장도 훨씬 쾌적했어요 😆 깔끔하고 정갈하고 든든한 한끼식사로 강추합니다!\n",
      "2. 한상차림으로 깔끔하게 먹기 좋았어요^^\n",
      "저는 장어덮밥먹고 부모님은 장어구이 드셨는데\n",
      "장어구이는 좀 더 바삭하게 구웠으면 좋다 하셨어요\n",
      "덮밥은 맛있었습니다!!\n",
      "평점 : naver 4.55(224명)\n",
      "주소 : 제주 제주시 이도이동 1188-20번지 2층\n",
      "음식 유형 : 가정식\n",
      "방문 목적 top 3 : 가족모임, 데이트, 친목\n",
      "대기 시간 통계 : 10분 이내:1,바로 입장:81\n",
      "예약 필요 여부 통계 : 예약 없이 이용:17,포장·배달 이용:4,예약 후 이용:62\n",
      "메뉴 : 장어정식(1인):39000, 장어덮밥(특 250g):36000, 장어덮밥(소 180g):29000, 장어구이(추가/포장):34000\n",
      "\n",
      "가게명 : 온평바다한그릇\n",
      "pk : 5663\n",
      "리뷰 : \n",
      "1. 부모님 모시고 맛있게 잘 먹고 갑니다.\n",
      "해산물도 신선하고 잘먹었습니다❤️\n",
      "2. 서버 분들꼐서 너무 친절하게 대해주셨네요~ 젊으신 분들 보기가 좋았습니다~^^ 해산물 모둠 하나 시켰는데 너무 신선한 것들로 준비되어 있어서 맛있게 먹었네요~\n",
      "평점 : google 4.1(377명)\n",
      "주소 : 제주 서귀포시 성산읍 온평리 1192-1번지 성산읍\n",
      "음식 유형 : 가정식\n",
      "방문 목적 top 3 : 여행, 데이트, 가족모임\n",
      "대기 시간 통계 : 1시간 이상:1,30분 이내:5,10분 이내:12,바로 입장:77\n",
      "예약 필요 여부 통계 : 예약 없이 이용:90,포장·배달 이용:3,예약 후 이용:2\n",
      "메뉴 : 고등어회+해산물모듬소+전복문어해물라면:87000, 전복구이:30000, 딱새우찜:30000, 문어숙회:30000, 한치(회,먹통찜):40000, 한치물회(활어):16000, 해산물\n",
      "\n",
      "가게명 : 선흘곶\n",
      "pk : 4167\n",
      "리뷰 : \n",
      "1. 지인과 함께 <동백동산습지> 걷기를 마치고\n",
      "수련이 이쁘다는 <반못>에 들럿다가 연꽃가득한\n",
      "돌다리를 건너다 우연히 만난 식당입니다~😄😄\n",
      "꼭꼭 숨어 있는 듯 보였는데 어떻게 아시고들\n",
      "2. 부모님 모시고 가기 좋은 한정식 맛집!!\n",
      "사장님 몹시 친절하심!!\n",
      "평점 : naver 4.5(556명), kakao 4.0(141명), google 4.2(5명)\n",
      "주소 : 제주 제주시 조천읍 선흘리 산 22번지 1층\n",
      "음식 유형 : 가정식\n",
      "방문 목적 top 3 : 여행, 나들이, 친목\n",
      "대기 시간 통계 : 1시간 이상:1,30분 이내:4,10분 이내:6,바로 입장:33\n",
      "예약 필요 여부 통계 : 예약 없이 이용:43\n",
      "메뉴 : 쌈밥정식:17000, 돼지고기 추가:10000, 고등어 추가:8000\n",
      "\n",
      "가게명 : 뜨레솥밥\n",
      "pk : 2119\n",
      "리뷰 : \n",
      "1. 음식이 정갈하게 나와요~~ 부모님과 함께 했는데 모두 만족스러운 식사였습니다 ^^\n",
      "2. 친절하신데 고기반찬잇으면 좋겟어요..\n",
      "평점 : naver 4.39(64명), kakao 4.0(55명), google 4.3(16명)\n",
      "주소 : 제주 제주시 애월읍 고성리 920-20번지 1층\n",
      "음식 유형 : 가정식\n",
      "방문 목적 top 3 : 일상, 여행, 나들이\n",
      "대기 시간 통계 : 바로 입장:7\n",
      "예약 필요 여부 통계 : 예약 없이 이용:8\n",
      "메뉴 : 한우국밥:11000, 명란순두부:10000, 불고기비빔밥:10000, 한우불고기 150g:15000, 생삼겹살 200g:17000, 한우로스구이 150g:20000\n",
      "\n",
      "\n"
     ]
    }
   ],
   "source": [
    "get_candidate_str(review_retrieval[:lack_num], query_embedding, graphdb_driver, review_k=2)"
   ]
  },
  {
   "cell_type": "code",
   "execution_count": null,
   "id": "4f3bd4ca-39d3-4a8a-b345-28d6c5ccd3a9",
   "metadata": {},
   "outputs": [],
   "source": []
  },
  {
   "cell_type": "code",
   "execution_count": null,
   "id": "4ee5cb2c-9ab9-4eb3-8b1b-4f737f3ad4be",
   "metadata": {},
   "outputs": [],
   "source": [
    "len(candidates_1st)"
   ]
  }
 ],
 "metadata": {
  "kernelspec": {
   "display_name": "bigcontest2024",
   "language": "python",
   "name": "bigcontest2024"
  },
  "language_info": {
   "codemirror_mode": {
    "name": "ipython",
    "version": 3
   },
   "file_extension": ".py",
   "mimetype": "text/x-python",
   "name": "python",
   "nbconvert_exporter": "python",
   "pygments_lexer": "ipython3",
   "version": "3.10.15"
  }
 },
 "nbformat": 4,
 "nbformat_minor": 5
}

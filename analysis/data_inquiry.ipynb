{
 "cells": [
  {
   "cell_type": "code",
   "execution_count": 2,
   "metadata": {},
   "outputs": [
    {
     "name": "stdout",
     "output_type": "stream",
     "text": [
      "Naver 리뷰 개수: 84720\n"
     ]
    }
   ],
   "source": [
    "\"\"\"\n",
    "Neo4j 데이터베이스에 적재된 내용을 확인하기 위해 Cypher 쿼리를 사용하여 Python에서 Neo4j에 연결하고 쿼리를 실행할 수 있습니다. 아래는 그 과정을 설명하는 단계입니다.\n",
    "\n",
    "1. **Neo4j 드라이버 설치**: 먼저, Neo4j Python 드라이버가 설치되어 있어야 합니다. 설치가 되어 있지 않다면, 다음 명령어로 설치할 수 있습니다.\n",
    "   ```bash\n",
    "   pip install neo4j\n",
    "   ```\n",
    "\n",
    "2. **Neo4j에 연결**: Neo4j 데이터베이스에 연결하기 위해 필요한 URL, 사용자 이름, 비밀번호를 설정합니다.\n",
    "\n",
    "3. **Cypher 쿼리 작성**: 적재된 데이터를 확인하기 위한 Cypher 쿼리를 작성합니다. 예를 들어, 모든 `Review` 노드를 조회하는 쿼리는 다음과 같습니다.\n",
    "   ```cypher\n",
    "   MATCH (r:Review) RETURN r\n",
    "   ```\n",
    "\n",
    "4. **Python 코드 작성**: 아래는 Neo4j에 연결하고 데이터를 조회하는 Python 코드 예시입니다.\n",
    "\"\"\"\n",
    "\n",
    "from neo4j import GraphDatabase\n",
    "from dotenv import load_dotenv\n",
    "import os\n",
    "\n",
    "# 환경 변수 설정\n",
    "load_dotenv()\n",
    "neo4j_url = os.getenv(\"NEO4J_URI\")\n",
    "neo4j_user = os.getenv(\"NEO4J_USERNAME\")\n",
    "neo4j_password = os.getenv(\"NEO4J_PASSWORD\")\n",
    "\n",
    "# Neo4j 드라이버 생성\n",
    "driver = GraphDatabase.driver(neo4j_url, auth=(neo4j_user, neo4j_password))\n",
    "\n",
    "def count_naver_reviews():\n",
    "    \"\"\"Naver 리뷰의 개수를 조회합니다.\"\"\"\n",
    "    with driver.session() as session:\n",
    "        result = session.run(\"MATCH (r:Review:Naver) RETURN COUNT(r) AS naver_review_count\")\n",
    "        count = result.single()[\"naver_review_count\"]  # 결과에서 개수 추출\n",
    "        print(f\"Naver 리뷰 개수: {count}\")\n",
    "\n",
    "# Naver 리뷰 개수 조회 실행\n",
    "count_naver_reviews()\n",
    "\n",
    "# 드라이버 연결 닫기\n",
    "driver.close()"
   ]
  },
  {
   "cell_type": "code",
   "execution_count": null,
   "metadata": {},
   "outputs": [],
   "source": []
  },
  {
   "cell_type": "code",
   "execution_count": null,
   "metadata": {},
   "outputs": [],
   "source": []
  }
 ],
 "metadata": {
  "kernelspec": {
   "display_name": "llm",
   "language": "python",
   "name": "python3"
  },
  "language_info": {
   "codemirror_mode": {
    "name": "ipython",
    "version": 3
   },
   "file_extension": ".py",
   "mimetype": "text/x-python",
   "name": "python",
   "nbconvert_exporter": "python",
   "pygments_lexer": "ipython3",
   "version": "3.10.14"
  }
 },
 "nbformat": 4,
 "nbformat_minor": 2
}
